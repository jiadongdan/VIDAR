{
 "cells": [
  {
   "cell_type": "code",
   "execution_count": 5,
   "id": "initial_id",
   "metadata": {
    "execution": {
     "iopub.execute_input": "2024-06-26T06:30:06.186256Z",
     "iopub.status.busy": "2024-06-26T06:30:06.185259Z",
     "iopub.status.idle": "2024-06-26T06:30:06.720601Z",
     "shell.execute_reply": "2024-06-26T06:30:06.720601Z",
     "shell.execute_reply.started": "2024-06-26T06:30:06.186256Z"
    },
    "jupyter": {
     "is_executing": true
    }
   },
   "outputs": [],
   "source": [
    "%matplotlib qt\n",
    "import numpy as np\n",
    "import matplotlib.pyplot as plt"
   ]
  },
  {
   "cell_type": "code",
   "execution_count": 6,
   "id": "90fcdd8c8605a687",
   "metadata": {
    "execution": {
     "iopub.execute_input": "2024-06-26T06:38:31.734540Z",
     "iopub.status.busy": "2024-06-26T06:38:31.734540Z",
     "iopub.status.idle": "2024-06-26T06:38:31.760964Z",
     "shell.execute_reply": "2024-06-26T06:38:31.759965Z",
     "shell.execute_reply.started": "2024-06-26T06:38:31.734540Z"
    },
    "jupyter": {
     "is_executing": true
    }
   },
   "outputs": [],
   "source": [
    "# generate random points\n",
    "pts = np.random.random((1000, 2))\n",
    "\n",
    "# generate random patches\n",
    "ps = np.random.random((1000, 45, 45))"
   ]
  },
  {
   "cell_type": "code",
   "execution_count": 7,
   "id": "ef5aaf4e2265a042",
   "metadata": {
    "execution": {
     "iopub.execute_input": "2024-06-26T06:56:21.803753Z",
     "iopub.status.busy": "2024-06-26T06:56:21.802756Z",
     "iopub.status.idle": "2024-06-26T06:56:21.825680Z",
     "shell.execute_reply": "2024-06-26T06:56:21.824682Z",
     "shell.execute_reply.started": "2024-06-26T06:56:21.803753Z"
    }
   },
   "outputs": [],
   "source": [
    "import numpy as np\n",
    "#from statistics import mode\n",
    "import matplotlib.pyplot as plt\n",
    "from scipy.stats import mode\n",
    "from matplotlib.widgets import LassoSelector\n",
    "from matplotlib.path import Path\n",
    "\n",
    "def colors_from_lbs(lbs, colors=None):\n",
    "    mpl_20 = ['#1f77b4', '#ff7f0e', '#2ca02c', '#d62728', '#9467bd',\n",
    "          '#8c564b', '#e377c2', '#7f7f7f', '#bcbd22', '#17becf',\n",
    "          '#3397dc', '#ff993e', '#3fca3f', '#df5152', '#a985ca',\n",
    "          '#ad7165', '#e992ce', '#999999', '#dbdc3c', '#35d8e9']\n",
    "    \n",
    "    if colors is None:\n",
    "        colors = np.array(mpl_20)\n",
    "    else:\n",
    "        colors = np.array(colors)\n",
    "    lbs = np.array(lbs) % len(colors)\n",
    "    return colors[lbs]\n",
    "\n",
    "def _update_mean_patch(ax, p, cmap):\n",
    "    if ax.images:  # ax.images not empty\n",
    "        ax.images[0].set_data(p)\n",
    "        ax.images[0].set_cmap(cmap)\n",
    "    else:\n",
    "        ax.imshow(p, cmap=cmap)\n",
    "    \n",
    "class InteractiveCluster:\n",
    "\n",
    "    def __init__(self, fig, pts, ps, lbs=None, **kwargs):\n",
    "        self.fig = fig\n",
    "        self.ax_cluster = fig.axes[0]\n",
    "        self.ax_patch = fig.axes[1]\n",
    "\n",
    "        if lbs is None:\n",
    "            self.lbs_ = np.array([0]*len(pts))\n",
    "        else:\n",
    "            self.lbs_ = lbs\n",
    "        self.colors = colors_from_lbs(self.lbs_)\n",
    "\n",
    "        self.path_collection = self.ax_cluster.scatter(pts[:, 0], pts[:, 1], c=self.colors, **kwargs)\n",
    "        self.ax_cluster.axis('equal')\n",
    "        self.ax_patch.set_xlim(0 - 0.5, ps.shape[2] - 0.5)\n",
    "        self.ax_patch.set_ylim(ps.shape[1] - 0.5, 0 - 0.5)\n",
    "\n",
    "        self.pts = pts\n",
    "        self.ps = ps\n",
    "\n",
    "\n",
    "        self.ind = None\n",
    "        self.pts_selected = None\n",
    "\n",
    "        self.lbs = np.array(len(self.pts) * [0])\n",
    "\n",
    "        self.num_clusters = 0\n",
    "\n",
    "        self.lasso = LassoSelector(self.ax_cluster, onselect=self.onselect)\n",
    "        self.press = self.fig.canvas.mpl_connect(\"key_press_event\", self.press_key)\n",
    "\n",
    "    def onselect(self, event):\n",
    "        path = Path(event)\n",
    "        self.ind = np.nonzero(path.contains_points(self.pts))[0]\n",
    "        if self.ind.size != 0:\n",
    "            self.pts_selected = self.pts[self.ind]\n",
    "            \n",
    "            # get the mean patch\n",
    "            p = self.ps[self.ind].mean(axis=0)\n",
    "            _update_mean_patch(self.ax_patch, p, cmap='gray')\n",
    "\n",
    "            # \n",
    "            self.ax_cluster.scatter(self.pts[self.ind, 0], self.pts[self.ind, 1], c=self.colors[self.ind], edgecolors='r')\n",
    "            ind_not_selected = [i for i in range(len(self.pts)) if i not in self.ind]\n",
    "            self.ax_cluster.scatter(self.pts[ind_not_selected, 0], self.pts[ind_not_selected, 1], c=self.colors[ind_not_selected])\n",
    "\n",
    "            self.fig.canvas.draw()\n",
    "\n",
    "    def press_key(self, event):\n",
    "        if event.key == \"enter\":\n",
    "            if self.ind.any():\n",
    "                self.num_clusters += 1\n",
    "                self.lbs[self.ind] = self.num_clusters\n",
    "                \n",
    "                #print(\"One cluster has been selected.\")\n",
    "\n",
    "                self.colors = colors_from_lbs(self.lbs)\n",
    "                self.ax_cluster.scatter(self.pts[:, 0], self.pts[:, 1], c=self.colors)\n",
    "                self.fig.canvas.draw_idle()\n",
    "\n",
    "                self.ind = None\n",
    "\n",
    "\n",
    "def interactive_clusters(pts, ps, lbs=None, **kwargs):\n",
    "    fig, ax = plt.subplots(1, 2, figsize=(12, 6))\n",
    "    app = InteractiveCluster(fig, pts, ps, lbs, **kwargs)\n",
    "    return app\n"
   ]
  },
  {
   "cell_type": "code",
   "execution_count": 8,
   "id": "227c1f35-6854-4f6a-a671-84e087e2e83c",
   "metadata": {
    "execution": {
     "iopub.execute_input": "2024-06-26T06:56:22.697527Z",
     "iopub.status.busy": "2024-06-26T06:56:22.697527Z",
     "iopub.status.idle": "2024-06-26T06:56:22.764039Z",
     "shell.execute_reply": "2024-06-26T06:56:22.764039Z",
     "shell.execute_reply.started": "2024-06-26T06:56:22.697527Z"
    }
   },
   "outputs": [
    {
     "data": {
      "text/plain": [
       "<__main__.InteractiveCluster at 0x1785ba4c0>"
      ]
     },
     "execution_count": 8,
     "metadata": {},
     "output_type": "execute_result"
    },
    {
     "name": "stderr",
     "output_type": "stream",
     "text": [
      "Traceback (most recent call last):\n",
      "  File \"/Users/yanglong/opt/anaconda3/lib/python3.9/site-packages/matplotlib/cbook.py\", line 298, in process\n",
      "    func(*args, **kwargs)\n",
      "  File \"/var/folders/bp/mqmfltrs34s8cdkbxnqssmf40000gn/T/ipykernel_35685/2264157383.py\", line 79, in press_key\n",
      "    if self.ind.any():\n",
      "AttributeError: 'NoneType' object has no attribute 'any'\n"
     ]
    }
   ],
   "source": [
    "interactive_clusters(pts, ps)"
   ]
  },
  {
   "cell_type": "code",
   "execution_count": null,
   "id": "55525ee7-2056-4a0c-a0c7-3247a2df3761",
   "metadata": {},
   "outputs": [],
   "source": []
  }
 ],
 "metadata": {
  "kernelspec": {
   "display_name": "Python 3 (ipykernel)",
   "language": "python",
   "name": "python3"
  },
  "language_info": {
   "codemirror_mode": {
    "name": "ipython",
    "version": 3
   },
   "file_extension": ".py",
   "mimetype": "text/x-python",
   "name": "python",
   "nbconvert_exporter": "python",
   "pygments_lexer": "ipython3",
   "version": "3.9.19"
  }
 },
 "nbformat": 4,
 "nbformat_minor": 5
}
