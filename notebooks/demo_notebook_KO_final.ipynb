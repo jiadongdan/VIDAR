{
 "cells": [
  {
   "cell_type": "code",
   "execution_count": 20,
   "id": "initial_id",
   "metadata": {
    "execution": {
     "iopub.execute_input": "2024-06-28T08:50:22.273340Z",
     "iopub.status.busy": "2024-06-28T08:50:22.272342Z",
     "iopub.status.idle": "2024-06-28T08:50:22.280314Z",
     "shell.execute_reply": "2024-06-28T08:50:22.279318Z",
     "shell.execute_reply.started": "2024-06-28T08:50:22.273340Z"
    },
    "jupyter": {
     "is_executing": true
    }
   },
   "outputs": [],
   "source": [
    "%matplotlib qt\n",
    "import numpy as np\n",
    "import matplotlib.pyplot as plt"
   ]
  },
  {
   "cell_type": "code",
   "execution_count": 21,
   "id": "cba22f72",
   "metadata": {
    "execution": {
     "iopub.execute_input": "2024-06-28T08:50:22.784477Z",
     "iopub.status.busy": "2024-06-28T08:50:22.784477Z",
     "iopub.status.idle": "2024-06-28T08:50:22.834791Z",
     "shell.execute_reply": "2024-06-28T08:50:22.833709Z",
     "shell.execute_reply.started": "2024-06-28T08:50:22.784477Z"
    }
   },
   "outputs": [],
   "source": [
    "import pandas as pd\n",
    "import numpy as np\n",
    "import matplotlib.pyplot as plt\n",
    "from matplotlib.widgets import LassoSelector\n",
    "from matplotlib.path import Path\n",
    "from collections import Counter\n",
    "\n",
    "def colors_from_lbs(lbs, colors=None):\n",
    "    mpl_20 = ['#1f77b4', '#ff7f0e', '#2ca02c', '#d62728', '#9467bd',\n",
    "              '#8c564b', '#e377c2', '#7f7f7f', '#bcbd22', '#17becf',\n",
    "              '#3397dc', '#ff993e', '#3fca3f', '#df5152', '#a985ca',\n",
    "              '#ad7165', '#e992ce', '#999999', '#dbdc3c', '#35d8e9']\n",
    "\n",
    "    if colors is None:\n",
    "        colors = np.array(mpl_20)\n",
    "    else:\n",
    "        colors = np.array(colors)\n",
    "    lbs = np.array(lbs) % len(colors)\n",
    "    return colors[lbs]\n",
    "\n",
    "def _update_histogram(ax, features, feature_name):\n",
    "    ax.clear()\n",
    "    feature_counts = Counter(features)\n",
    "    sorted_counts = sorted(feature_counts.items(), key=lambda x: x[1], reverse=True)\n",
    "    ax.bar([item[0] for item in sorted_counts], [item[1] for item in sorted_counts], color='red')\n",
    "    ax.set_ylabel('Count', fontsize=8)\n",
    "    ax.set_title(f'Histogram of {feature_name}', fontsize=8)\n",
    "    ax.tick_params(axis='x', labelrotation=45, labelsize=8)\n",
    "    ax.tick_params(axis='y', labelsize=8)\n",
    "\n",
    "def _update_histograms(axs, features, feature_names):\n",
    "    for ax, feature, name in zip(axs, features.T, feature_names):\n",
    "        _update_histogram(ax, feature, name)\n",
    "    plt.tight_layout()\n",
    "\n",
    "class InteractiveCluster:\n",
    "    def __init__(self, fig, pts, features, feature_names, ps=None, lbs=None, **kwargs):\n",
    "        self.fig = fig\n",
    "        self.ax_cluster = fig.axes[0]\n",
    "        self.ax_histograms = fig.axes[1:]\n",
    "\n",
    "        if lbs is None:\n",
    "            self.lbs_ = np.array([0] * len(pts))\n",
    "        else:\n",
    "            self.lbs_ = lbs\n",
    "        self.colors = self.colors_from_lbs(self.lbs_)\n",
    "\n",
    "        self.path_collection = self.ax_cluster.scatter(pts[:, 0], pts[:, 1], c=self.colors, **kwargs)\n",
    "        self.ax_cluster.axis('equal')\n",
    "\n",
    "        self.pts = pts\n",
    "        if ps is not None:\n",
    "            self.ps = ps\n",
    "        else:\n",
    "            self.ps = None\n",
    "        self.features = features\n",
    "        self.feature_names = feature_names\n",
    "\n",
    "        self.ind = np.arange(len(pts))  \n",
    "        self.pts_selected = self.pts\n",
    "\n",
    "        self.lbs = np.array(len(pts) * [-1])\n",
    "\n",
    "        self.num_clusters = 0\n",
    "\n",
    "        self.lasso = LassoSelector(self.ax_cluster, onselect=self.onselect)\n",
    "        self.press = self.fig.canvas.mpl_connect(\"key_press_event\", self.press_key)\n",
    "\n",
    "        \n",
    "        self.plot_initial_histograms()\n",
    "\n",
    "    def plot_initial_histograms(self):\n",
    "        \n",
    "        for i, feature_name in enumerate(self.feature_names):\n",
    "            self._update_histogram(self.ax_histograms[i], self.features[:, i], feature_name)\n",
    "\n",
    "    def onselect(self, verts):\n",
    "        path = Path(verts)\n",
    "        self.ind = np.nonzero(path.contains_points(self.pts))[0]\n",
    "        if self.ind.size != 0:\n",
    "            self.pts_selected = self.pts[self.ind]\n",
    "\n",
    "            \n",
    "            selected_features = self.features[self.ind]\n",
    "            self._update_histograms(self.ax_histograms, selected_features, self.feature_names)\n",
    "            self.fig.canvas.draw_idle()\n",
    "\n",
    "    def press_key(self, event):\n",
    "        if event.key == \"enter\":\n",
    "            if self.ind.any():\n",
    "                self.lbs[self.ind] = self.num_clusters\n",
    "                self.num_clusters += 1\n",
    "                print(\"One cluster has been selected.\")\n",
    "\n",
    "    def colors_from_lbs(self, lbs):\n",
    "        \n",
    "        return plt.cm.jet(lbs / max(lbs.max(), 1))\n",
    "\n",
    "    def _update_histogram(self, ax, data, feature_name):\n",
    "        ax.clear()\n",
    "        ax.hist(data, bins=30, alpha=0.7)\n",
    "        ax.set_title(f'Histogram of {feature_name}', fontsize=8)\n",
    "        ax.tick_params(axis='x', labelrotation=45, labelsize=8)\n",
    "        ax.tick_params(axis='y', labelsize=8)\n",
    "        plt.tight_layout()\n",
    "\n",
    "    def _update_histograms(self, ax_histograms, features, feature_names):\n",
    "        for ax, feature, name in zip(ax_histograms, features.T, feature_names):\n",
    "            self._update_histogram(ax, feature, name)\n",
    "        plt.tight_layout()\n",
    "### HERE I MAKE PS OPTIONAL \n",
    "def interactive_clusters(pts, features, feature_names, ps=None, lbs=None, **kwargs):\n",
    "    num_features = features.shape[1]\n",
    "\n",
    "    if (num_features + 1) % 2 == 0:\n",
    "        n = int((num_features + 1) / 2)\n",
    "        m = 2\n",
    "    else:\n",
    "        n = int((num_features + 2) / 2)\n",
    "        m = 2\n",
    "\n",
    "    if num_features > 2:\n",
    "        fig, ax = plt.subplots(n, m, figsize=(9, 9))\n",
    "    else:\n",
    "        fig, ax = plt.subplots(1, num_features + 1, figsize=(6 * (num_features + 1), 6))\n",
    "\n",
    "    for i, feature_name in enumerate(feature_names):\n",
    "        if num_features > 2:\n",
    "            _update_histogram(ax.flatten()[i + 1], features[:, i], feature_name)\n",
    "        else:\n",
    "            _update_histogram(ax[i + 1], features[:, i], feature_name)\n",
    "\n",
    "##HI JIADONG ELNAZ I CHANGED THE DIMENSIONS OF THE SUBPLOTS\n",
    "    plt.subplots_adjust(left=0.1, bottom=0.1, right=0.9, top=0.9, wspace=0.4, hspace=0.4)\n",
    "\n",
    "    app = InteractiveCluster(fig, pts, features, feature_names, ps, lbs, **kwargs)\n",
    "    return app"
   ]
  },
  {
   "cell_type": "markdown",
   "id": "29804afa",
   "metadata": {},
   "source": [
    "Here onwards is the realworld data example,\n",
    "we expect two inputs, test and metadata\n",
    "where test is (N,2) dataframe and metadata is (N,M) dataframe consisting of non-numerical attributes"
   ]
  },
  {
   "cell_type": "code",
   "execution_count": null,
   "id": "41ef2e54",
   "metadata": {},
   "outputs": [],
   "source": []
  },
  {
   "cell_type": "code",
   "execution_count": 42,
   "id": "c9bf2c3f",
   "metadata": {
    "execution": {
     "iopub.execute_input": "2024-06-28T09:03:42.483811Z",
     "iopub.status.busy": "2024-06-28T09:03:42.483811Z",
     "iopub.status.idle": "2024-06-28T09:03:42.504744Z",
     "shell.execute_reply": "2024-06-28T09:03:42.503747Z",
     "shell.execute_reply.started": "2024-06-28T09:03:42.483811Z"
    }
   },
   "outputs": [
    {
     "data": {
      "text/plain": [
       "class      object\n",
       "cogdx       int64\n",
       "msex        int64\n",
       "braaksc     int64\n",
       "dtype: object"
      ]
     },
     "execution_count": 42,
     "metadata": {},
     "output_type": "execute_result"
    }
   ],
   "source": [
    "test=pd.read_csv('blindedtest.csv')\n",
    "meta=pd.read_csv('blind_metadata.csv')\n",
    "test.set_index('pts',inplace=True)\n",
    "meta.set_index('pts',inplace=True)\n",
    "meta.dtypes\n"
   ]
  },
  {
   "cell_type": "code",
   "execution_count": 43,
   "id": "203c854d",
   "metadata": {
    "execution": {
     "iopub.execute_input": "2024-06-28T09:03:43.499396Z",
     "iopub.status.busy": "2024-06-28T09:03:43.499396Z",
     "iopub.status.idle": "2024-06-28T09:03:43.510844Z",
     "shell.execute_reply": "2024-06-28T09:03:43.509848Z",
     "shell.execute_reply.started": "2024-06-28T09:03:43.499396Z"
    }
   },
   "outputs": [
    {
     "name": "stdout",
     "output_type": "stream",
     "text": [
      "       class cogdx msex braaksc\n",
      "pts                            \n",
      "53       AD1     3    1       2\n",
      "22       AD1     4    0       3\n",
      "40       AD1     1    0       3\n",
      "89       AD1     1    0       3\n",
      "55       AD1     2    1       4\n",
      "..       ...   ...  ...     ...\n",
      "92   control     1    0       3\n",
      "63   control     2    0       4\n",
      "64   control     1    0       4\n",
      "34   control     1    0       2\n",
      "99   control     1    1       4\n",
      "\n",
      "[569 rows x 4 columns]\n"
     ]
    }
   ],
   "source": [
    "for col in meta.columns:\n",
    "        meta[col] = meta[col].astype(str)\n",
    "print(meta)"
   ]
  },
  {
   "cell_type": "code",
   "execution_count": 44,
   "id": "c42bdecb",
   "metadata": {
    "execution": {
     "iopub.execute_input": "2024-06-28T09:03:43.897045Z",
     "iopub.status.busy": "2024-06-28T09:03:43.896049Z",
     "iopub.status.idle": "2024-06-28T09:03:43.914498Z",
     "shell.execute_reply": "2024-06-28T09:03:43.913501Z",
     "shell.execute_reply.started": "2024-06-28T09:03:43.897045Z"
    }
   },
   "outputs": [],
   "source": [
    "\n",
    "\"\"\"index of metadata and test must be called ID if you need to check index\"\"\"\n",
    "#this reorders index to ensure metadata and test are same\n",
    "def reorder_checkingindex(test, metadata):\n",
    "    if not test.index.equals(metadata.index):\n",
    "        if not all(test.index.isin(metadata.index)):\n",
    "            print(\"Indexes in test are not in metadata\")\n",
    "        test = test.reindex(index=metadata['ID'])\n",
    "        test = test.reset_index()\n",
    "    return test\n",
    "\n",
    "#conversion to numpy array\n",
    "def make_df_to_np(test,metadata):\n",
    "    test=test.to_numpy()\n",
    "    metadata=metadata.select_dtypes('object')\n",
    "    colnames=metadata.columns.tolist()\n",
    "    column_arrays = []\n",
    "\n",
    "    for col in metadata.columns:\n",
    "        column_arrays.append(metadata[col].values)\n",
    "\n",
    "    testmeta = np.column_stack(column_arrays)\n",
    "    return colnames,test,testmeta"
   ]
  },
  {
   "cell_type": "code",
   "execution_count": 53,
   "id": "09426ae9",
   "metadata": {
    "execution": {
     "iopub.execute_input": "2024-06-28T09:09:13.219717Z",
     "iopub.status.busy": "2024-06-28T09:09:13.219717Z",
     "iopub.status.idle": "2024-06-28T09:09:13.832359Z",
     "shell.execute_reply": "2024-06-28T09:09:13.832359Z",
     "shell.execute_reply.started": "2024-06-28T09:09:13.219717Z"
    }
   },
   "outputs": [],
   "source": [
    "test_df= reorder_checkingindex(test,meta)\n",
    "colnames, test_array, meta_array = make_df_to_np(test_df,meta)\n",
    "testapp = interactive_clusters(pts=test_array,ps=None,features=meta_array,feature_names=colnames, lbs=lbs)\n",
    "#plt.show()"
   ]
  },
  {
   "cell_type": "code",
   "execution_count": 52,
   "id": "6400a60b",
   "metadata": {
    "execution": {
     "iopub.execute_input": "2024-06-28T09:09:11.585536Z",
     "iopub.status.busy": "2024-06-28T09:09:11.584539Z",
     "iopub.status.idle": "2024-06-28T09:09:11.593509Z",
     "shell.execute_reply": "2024-06-28T09:09:11.592512Z",
     "shell.execute_reply.started": "2024-06-28T09:09:11.585536Z"
    }
   },
   "outputs": [],
   "source": [
    "lbs = np.random.choice([0, 1, 2, 3, 4], 569)"
   ]
  },
  {
   "cell_type": "code",
   "execution_count": null,
   "id": "68b6533d-53af-4ca0-92d3-edc96d6292bb",
   "metadata": {},
   "outputs": [],
   "source": []
  }
 ],
 "metadata": {
  "kernelspec": {
   "display_name": "Python 3 (ipykernel)",
   "language": "python",
   "name": "python3"
  },
  "language_info": {
   "codemirror_mode": {
    "name": "ipython",
    "version": 3
   },
   "file_extension": ".py",
   "mimetype": "text/x-python",
   "name": "python",
   "nbconvert_exporter": "python",
   "pygments_lexer": "ipython3",
   "version": "3.10.14"
  }
 },
 "nbformat": 4,
 "nbformat_minor": 5
}
