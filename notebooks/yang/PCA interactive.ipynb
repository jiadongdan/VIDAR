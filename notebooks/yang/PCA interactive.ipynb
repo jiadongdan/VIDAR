{
 "cells": [
  {
   "cell_type": "markdown",
   "metadata": {},
   "source": [
    "# Interactive PCA\n",
    "> Yang"
   ]
  },
  {
   "cell_type": "code",
   "execution_count": 115,
   "metadata": {},
   "outputs": [],
   "source": [
    "%matplotlib qt\n",
    "import matplotlib.pyplot as plt\n",
    "import numpy as np\n",
    "from matplotlib.widgets import Button\n",
    "from matplotlib.widgets import PolygonSelector\n",
    "from sklearn.decomposition import PCA\n",
    "\n",
    "rng = np.random.RandomState(0)\n",
    "n_samples = 1000\n",
    "cov = [[1, 0], [0, 1]]\n",
    "X = np.concatenate([\n",
    "    rng.multivariate_normal(mean=[-2, 0], cov=cov, size=n_samples), \n",
    "    rng.multivariate_normal(mean=[2, 0], cov=cov, size=n_samples)])\n",
    "\n",
    "\n",
    "\n",
    "pca = PCA(n_components=1).fit(X)\n",
    "component = pca.components_.reshape(-1)\n",
    "\n",
    "# print(pca.components_)\n",
    "# print(pca.explained_variance_)\n",
    "# print(list(zip(pca.components_, pca.explained_variance_)))\n",
    "\n",
    "fig, (ax_orig, ax_redim) = plt.subplots(1, 2, figsize=(12, 6))\n",
    "ax_orig.scatter(X[:, 0], X[:, 1], alpha=0.3, label=\"samples\")\n",
    "x_center = np.mean(X, axis=0)\n",
    "\n",
    "comp_vector = [component, x_center]\n",
    "\n",
    "ax_orig.set(\n",
    "    aspect=\"auto\", \n",
    "    title=\"2-dimensional dataset with principal components\",\n",
    "    xlabel=\"first feature\",\n",
    "    ylabel=\"second feature\",\n",
    ")\n",
    "\n",
    "\n",
    "def onselect(verts):\n",
    "    _x_center, _total_vector = verts\n",
    "    # print(x_center)\n",
    "    # print(component)\n",
    "    _component = np.array(_total_vector) - np.array(_x_center)\n",
    "    ax_redim.clear()\n",
    "    ax_redim.hist((X @ _component.T - _x_center @ _component.T),50)\n",
    "    ax_redim.set(\n",
    "        aspect=\"auto\",\n",
    "        title=\"1-dimensional dataset after dimension reduction\",\n",
    "        xlabel=\"Main feature\",\n",
    "        ylabel=\"Number of samples\",\n",
    "    )\n",
    "    fig.canvas.draw()\n",
    "\n",
    "selector = PolygonSelector(ax_orig, onselect=onselect, \n",
    "                           props=dict(color='r', linestyle='-', linewidth=3, alpha=0.6, label=f\"Component\"))\n",
    "component, x_center = comp_vector\n",
    "selector.verts = [x_center, x_center + component]\n",
    "ax_orig.legend()\n",
    "\n",
    "ax_redim.hist((X @ component.T - x_center @ component.T),50)\n",
    "ax_redim.set(\n",
    "    aspect=\"auto\",\n",
    "    title=\"1-dimensional dataset after dimension reduction\",\n",
    "    xlabel=\"Main feature\",\n",
    "    ylabel=\"Number of samples\",\n",
    ")\n",
    "#_asp = np.diff(ax_orig.get_ylim())[0] / np.diff(ax_orig.get_xlim())[0]\n",
    "#ax_redim.set_aspect(_asp)\n",
    "\n",
    "plt.tight_layout()\n",
    "plt.show()"
   ]
  },
  {
   "cell_type": "code",
   "execution_count": null,
   "metadata": {},
   "outputs": [],
   "source": []
  }
 ],
 "metadata": {
  "kernelspec": {
   "display_name": "base",
   "language": "python",
   "name": "python3"
  },
  "language_info": {
   "codemirror_mode": {
    "name": "ipython",
    "version": 3
   },
   "file_extension": ".py",
   "mimetype": "text/x-python",
   "name": "python",
   "nbconvert_exporter": "python",
   "pygments_lexer": "ipython3",
   "version": "3.9.19"
  }
 },
 "nbformat": 4,
 "nbformat_minor": 2
}
