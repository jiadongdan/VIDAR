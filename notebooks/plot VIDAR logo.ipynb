{
 "cells": [
  {
   "metadata": {},
   "cell_type": "markdown",
   "source": "# Plot the logo of VIDAR",
   "id": "8f2801f85cb04cf5"
  },
  {
   "metadata": {
    "ExecuteTime": {
     "end_time": "2024-06-03T03:06:42.382965Z",
     "start_time": "2024-06-03T03:06:39.016084Z"
    }
   },
   "cell_type": "code",
   "source": [
    "%matplotlib qt\n",
    "import numpy as np\n",
    "import matplotlib.pyplot as plt "
   ],
   "id": "d47aa2c2b1259039",
   "outputs": [],
   "execution_count": 1
  },
  {
   "metadata": {},
   "cell_type": "markdown",
   "source": "## load the data",
   "id": "e37696b7c871e6ae"
  },
  {
   "metadata": {
    "ExecuteTime": {
     "end_time": "2024-06-03T06:20:32.928491Z",
     "start_time": "2024-06-03T06:20:32.908490Z"
    }
   },
   "cell_type": "code",
   "source": [
    "from sklearn.datasets import load_iris\n",
    "\n",
    "iris = load_iris()\n",
    "X = iris.data[:, 0:2] \n",
    "y = iris.target\n",
    "\n",
    "mask = np.logical_or(y == 0, y==2)\n",
    "X = X[mask]\n",
    "y = y[mask]\n",
    "y[y==2] = 1"
   ],
   "id": "efd37755fb0555dd",
   "outputs": [],
   "execution_count": 75
  },
  {
   "metadata": {
    "ExecuteTime": {
     "end_time": "2024-06-03T06:20:33.541641Z",
     "start_time": "2024-06-03T06:20:33.521615Z"
    }
   },
   "cell_type": "code",
   "source": "",
   "id": "8529a433d13e6bc",
   "outputs": [],
   "execution_count": 75
  },
  {
   "metadata": {
    "ExecuteTime": {
     "end_time": "2024-06-03T06:21:11.387496Z",
     "start_time": "2024-06-03T06:21:11.364496Z"
    }
   },
   "cell_type": "code",
   "source": [
    "from scipy.stats import gaussian_kde\n",
    "\n",
    "def plot_density_2d(X, y):\n",
    "    \"\"\"\n",
    "    Plots the density of a 2D array X with labels y using matplotlib.\n",
    "    \n",
    "    Parameters:\n",
    "    X (numpy.ndarray): 2D array with shape (N, 2)\n",
    "    y (numpy.ndarray): 1D array with shape (N,) containing labels\n",
    "    \"\"\"\n",
    "    # Separate data based on labels\n",
    "    X_class0 = X[y == 0]\n",
    "    X_class1 = X[y == 1]\n",
    "\n",
    "    # Create a Gaussian KDE for each class\n",
    "    kde_class0 = gaussian_kde(X_class0.T)\n",
    "    kde_class1 = gaussian_kde(X_class1.T)\n",
    "\n",
    "    # Create a grid for the plot\n",
    "    xmin, xmax = X[:,0].min() - 1, X[:,0].max() + 1\n",
    "    ymin, ymax = X[:,1].min() - 1, X[:,1].max() + 1\n",
    "    xx, yy = np.mgrid[xmin:xmax:100j, ymin:ymax:100j]\n",
    "    positions = np.vstack([xx.ravel(), yy.ravel()])\n",
    "\n",
    "    # Evaluate the KDE on the grid\n",
    "    f_class0 = np.reshape(kde_class0(positions).T, xx.shape)\n",
    "    f_class1 = np.reshape(kde_class1(positions).T, xx.shape)\n",
    "\n",
    "    # Plot the density\n",
    "    fig, ax = plt.subplots()\n",
    "    ax.imshow(np.rot90(f_class0), cmap='Blues', extent=[xmin, xmax, ymin, ymax], alpha=0.5)\n",
    "    ax.imshow(np.rot90(f_class1), cmap='Reds', extent=[xmin, xmax, ymin, ymax], alpha=0.5)\n",
    "\n",
    "    # Overlay the scatter plot\n",
    "    # ax.scatter(X_class0[:,0], X_class0[:,1], c='blue', label='Class 0', edgecolor='k')\n",
    "    # ax.scatter(X_class1[:,0], X_class1[:,1], c='red', label='Class 1', edgecolor='k')\n",
    "    \n",
    "    ax.contour(xx, yy, f_class0)\n",
    "    ax.contour(xx, yy, f_class1)\n",
    "\n",
    "    # Add legend and labels\n",
    "    # ax.legend()\n",
    "    # ax.set_xlim([xmin, xmax])\n",
    "    # ax.set_ylim([ymin, ymax])\n",
    "    ax.set_xlabel('Feature 1')\n",
    "    ax.set_ylabel('Feature 2')\n",
    "    ax.set_title('Density Plot of 2D Data')\n",
    "    \n",
    "    ax.axis('equal') \n",
    "    plt.show()"
   ],
   "id": "700ed4dea70223e7",
   "outputs": [],
   "execution_count": 80
  },
  {
   "metadata": {
    "ExecuteTime": {
     "end_time": "2024-06-03T06:21:11.750811Z",
     "start_time": "2024-06-03T06:21:11.602828Z"
    }
   },
   "cell_type": "code",
   "source": "plot_density_2d(X, y)",
   "id": "f4c69023b6bab0e5",
   "outputs": [],
   "execution_count": 81
  },
  {
   "metadata": {
    "ExecuteTime": {
     "end_time": "2024-06-03T06:22:11.227110Z",
     "start_time": "2024-06-03T06:22:11.205109Z"
    }
   },
   "cell_type": "code",
   "source": "",
   "id": "e56c30d5a50d6f90",
   "outputs": [],
   "execution_count": 81
  },
  {
   "metadata": {
    "ExecuteTime": {
     "end_time": "2024-06-03T06:22:42.713885Z",
     "start_time": "2024-06-03T06:22:42.699886Z"
    }
   },
   "cell_type": "code",
   "source": "",
   "id": "4cba4cd1b7285df4",
   "outputs": [],
   "execution_count": 81
  },
  {
   "metadata": {
    "ExecuteTime": {
     "end_time": "2024-06-04T01:55:29.339443Z",
     "start_time": "2024-06-04T01:55:29.314463Z"
    }
   },
   "cell_type": "code",
   "source": [
    "def plot_kde(xy, ax=None, cmap='Blues', alpha=0.5):\n",
    "    if ax is None:\n",
    "        fig, ax = plt.subplots(1, 1, figsize=(7.2, 7.2))\n",
    "\n",
    "    kde_class = gaussian_kde(xy.T)\n",
    "\n",
    "    # Create a grid for the plot\n",
    "    xmin, xmax = X[:,0].min() - 1, X[:,0].max() + 1\n",
    "    ymin, ymax = X[:,1].min() - 1, X[:,1].max() + 1\n",
    "    xx, yy = np.mgrid[xmin:xmax:100j, ymin:ymax:100j]\n",
    "    positions = np.vstack([xx.ravel(), yy.ravel()])\n",
    "\n",
    "    # Evaluate the KDE on the grid\n",
    "    z = np.reshape(kde_class(positions).T, xx.shape)\n",
    "\n",
    "    #ax.imshow(np.rot90(z), cmap='Blues', extent=[xmin, xmax, ymin, ymax], alpha=0.5)\n",
    "    #ax.contour(xx, yy, z,)\n",
    "    ax.contourf(xx, yy, z, cmap=cmap, alpha=alpha)"
   ],
   "id": "3cee54e9f8826cbe",
   "outputs": [],
   "execution_count": 143
  },
  {
   "metadata": {
    "ExecuteTime": {
     "end_time": "2024-06-04T01:55:29.906099Z",
     "start_time": "2024-06-04T01:55:29.750103Z"
    }
   },
   "cell_type": "code",
   "source": [
    "fig, ax = plt.subplots(1, 1, figsize=(7.2, 7.2))\n",
    "\n",
    "alpha = 0.5\n",
    "plot_kde(X[:, 0:2][y==1], ax=ax, cmap='Oranges', alpha=alpha)\n",
    "plot_kde(X[:, 0:2][y==0], ax=ax, alpha=alpha)\n"
   ],
   "id": "4230969dad7e4415",
   "outputs": [],
   "execution_count": 144
  },
  {
   "metadata": {},
   "cell_type": "code",
   "outputs": [],
   "execution_count": null,
   "source": "",
   "id": "11484a4fab3047a6"
  }
 ],
 "metadata": {
  "kernelspec": {
   "display_name": "Python 3",
   "language": "python",
   "name": "python3"
  },
  "language_info": {
   "codemirror_mode": {
    "name": "ipython",
    "version": 2
   },
   "file_extension": ".py",
   "mimetype": "text/x-python",
   "name": "python",
   "nbconvert_exporter": "python",
   "pygments_lexer": "ipython2",
   "version": "2.7.6"
  }
 },
 "nbformat": 4,
 "nbformat_minor": 5
}
